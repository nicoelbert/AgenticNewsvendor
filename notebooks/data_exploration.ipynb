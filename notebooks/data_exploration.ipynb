{
 "cells": [
  {
   "cell_type": "markdown",
   "id": "3bd0050e",
   "metadata": {},
   "source": [
    "# AgenticNewsvendor - Data Exploration and Testing\n",
    "\n",
    "This notebook demonstrates the core functionality of the AgenticNewsvendor research project, including:\n",
    "- Data generation for newsvendor problems\n",
    "- Agentic system integration with LangChain\n",
    "- Dashboard visualization capabilities\n",
    "- End-to-end workflow testing"
   ]
  },
  {
   "cell_type": "markdown",
   "id": "0c7e1f98",
   "metadata": {},
   "source": []
  },
  {
   "cell_type": "markdown",
   "id": "ea6c4e69",
   "metadata": {},
   "source": [
    "## 1. Setup and Imports"
   ]
  },
  {
   "cell_type": "code",
   "execution_count": null,
   "id": "bcabd023",
   "metadata": {},
   "outputs": [
    {
     "ename": "",
     "evalue": "",
     "output_type": "error",
     "traceback": [
      "\u001b[1;31mRunning cells with '.venv (Python 3.13.0)' requires the ipykernel package.\n",
      "\u001b[1;31mInstall 'ipykernel' into the Python environment. \n",
      "\u001b[1;31mCommand: '/Users/nicoelbert/Documents/GitHub/AgenticNewsvendor/.venv/bin/python -m pip install ipykernel -U --force-reinstall'"
     ]
    }
   ],
   "source": [
    "# Import standard libraries\n",
    "import sys\n",
    "import os\n",
    "import numpy as np\n",
    "import pandas as pd\n",
    "import matplotlib.pyplot as plt\n",
    "import seaborn as sns\n",
    "import warnings\n",
    "\n",
    "# Add project root to path\n",
    "project_root = os.path.dirname(os.getcwd())\n",
    "if project_root not in sys.path:\n",
    "    sys.path.append(project_root)\n",
    "\n",
    "# Configure plotting\n",
    "plt.style.use('default')\n",
    "sns.set_palette(\"husl\")\n",
    "warnings.filterwarnings('ignore')\n",
    "\n",
    "print(\"✅ Basic libraries imported successfully\")\n",
    "print(f\"Project root: {project_root}\")"
   ]
  },
  {
   "cell_type": "code",
   "execution_count": null,
   "id": "8e90bb9f",
   "metadata": {},
   "outputs": [],
   "source": [
    "# Import project modules\n",
    "try:\n",
    "    from data_generation import DataGenerator\n",
    "    from agentic_system import NewsvendorAgent, AgentManager, create_agent_manager_with_default_agents\n",
    "    print(\"✅ Project modules imported successfully\")\n",
    "except ImportError as e:\n",
    "    print(f\"❌ Error importing project modules: {e}\")\n",
    "    print(\"Make sure you're running this notebook from the notebooks/ directory\")"
   ]
  },
  {
   "cell_type": "markdown",
   "id": "659b46ac",
   "metadata": {},
   "source": [
    "## 2. Data Generation\n",
    "\n",
    "Let's generate synthetic demand data for our newsvendor analysis."
   ]
  },
  {
   "cell_type": "code",
   "execution_count": null,
   "id": "c72349f8",
   "metadata": {},
   "outputs": [],
   "source": [
    "# Initialize data generator\n",
    "data_gen = DataGenerator(seed=42)\n",
    "\n",
    "# Generate demand data for 5 products over 50 periods\n",
    "demand_data = data_gen.generate_demand_data(n_products=5, n_periods=50)\n",
    "\n",
    "print(f\"Generated demand data shape: {demand_data.shape}\")\n",
    "print(\"\\nFirst few rows:\")\n",
    "demand_data.head(10)"
   ]
  },
  {
   "cell_type": "code",
   "execution_count": null,
   "id": "6beac127",
   "metadata": {},
   "outputs": [],
   "source": [
    "# Generate time series data\n",
    "time_series_data = data_gen.generate_time_series(\n",
    "    start_date='2024-01-01',\n",
    "    end_date='2024-12-31',\n",
    "    frequency='D',\n",
    "    noise_level=0.15\n",
    ")\n",
    "\n",
    "print(f\"Generated time series data shape: {time_series_data.shape}\")\n",
    "print(\"\\nFirst few rows:\")\n",
    "time_series_data.head()"
   ]
  },
  {
   "cell_type": "markdown",
   "id": "691dbd9e",
   "metadata": {},
   "source": [
    "## 3. Data Exploration and Visualization"
   ]
  },
  {
   "cell_type": "code",
   "execution_count": null,
   "id": "1f547e40",
   "metadata": {},
   "outputs": [],
   "source": [
    "# Basic statistics for demand data\n",
    "print(\"=== Demand Data Statistics ===\")\n",
    "print(demand_data.groupby('product')['demand'].describe())"
   ]
  },
  {
   "cell_type": "code",
   "execution_count": null,
   "id": "622a7770",
   "metadata": {},
   "outputs": [],
   "source": [
    "# Visualize demand patterns\n",
    "fig, axes = plt.subplots(2, 2, figsize=(15, 10))\n",
    "\n",
    "# Demand distribution\n",
    "axes[0, 0].hist(demand_data['demand'], bins=30, alpha=0.7, edgecolor='black')\n",
    "axes[0, 0].set_title('Overall Demand Distribution')\n",
    "axes[0, 0].set_xlabel('Demand')\n",
    "axes[0, 0].set_ylabel('Frequency')\n",
    "\n",
    "# Demand by product\n",
    "sns.boxplot(data=demand_data, x='product', y='demand', ax=axes[0, 1])\n",
    "axes[0, 1].set_title('Demand Distribution by Product')\n",
    "axes[0, 1].tick_params(axis='x', rotation=45)\n",
    "\n",
    "# Demand over time for first product\n",
    "product_1_data = demand_data[demand_data['product'] == 'Product_001']\n",
    "axes[1, 0].plot(product_1_data['period'], product_1_data['demand'], marker='o', markersize=3)\n",
    "axes[1, 0].set_title('Demand Over Time (Product_001)')\n",
    "axes[1, 0].set_xlabel('Period')\n",
    "axes[1, 0].set_ylabel('Demand')\n",
    "\n",
    "# Time series visualization\n",
    "axes[1, 1].plot(time_series_data['timestamp'][:100], time_series_data['value'][:100])\n",
    "axes[1, 1].set_title('Time Series Data (First 100 Days)')\n",
    "axes[1, 1].set_xlabel('Date')\n",
    "axes[1, 1].set_ylabel('Value')\n",
    "axes[1, 1].tick_params(axis='x', rotation=45)\n",
    "\n",
    "plt.tight_layout()\n",
    "plt.show()"
   ]
  },
  {
   "cell_type": "markdown",
   "id": "144ebc8f",
   "metadata": {},
   "source": [
    "## 4. Agentic System Testing\n",
    "\n",
    "Now let's test our agentic system with newsvendor optimization tasks."
   ]
  },
  {
   "cell_type": "code",
   "execution_count": null,
   "id": "5ecbbcb4",
   "metadata": {},
   "outputs": [],
   "source": [
    "# Create agent manager with default agents\n",
    "agent_manager = create_agent_manager_with_default_agents()\n",
    "\n",
    "print(\"Available agents:\")\n",
    "for agent_name in agent_manager.get_available_agents():\n",
    "    print(f\"  - {agent_name}\")"
   ]
  },
  {
   "cell_type": "code",
   "execution_count": null,
   "id": "9d871c7e",
   "metadata": {},
   "outputs": [],
   "source": [
    "# Test demand analysis\n",
    "product_demand = demand_data[demand_data['product'] == 'Product_001']['demand'].tolist()\n",
    "\n",
    "analysis_context = {\n",
    "    'demand_data': product_demand\n",
    "}\n",
    "\n",
    "analysis_result = agent_manager.execute_task(\n",
    "    agent_name='NewsvendorAgent',\n",
    "    task='analyze',\n",
    "    context=analysis_context\n",
    ")\n",
    "\n",
    "print(\"=== Demand Analysis Results ===\")\n",
    "for key, value in analysis_result.items():\n",
    "    print(f\"{key}: {value}\")"
   ]
  },
  {
   "cell_type": "code",
   "execution_count": null,
   "id": "e3ab6021",
   "metadata": {},
   "outputs": [],
   "source": [
    "# Test inventory optimization\n",
    "optimization_context = {\n",
    "    'demand_data': product_demand,\n",
    "    'unit_cost': 8.0,\n",
    "    'selling_price': 12.0,\n",
    "    'salvage_value': 3.0\n",
    "}\n",
    "\n",
    "optimization_result = agent_manager.execute_task(\n",
    "    agent_name='NewsvendorAgent',\n",
    "    task='optimize',\n",
    "    context=optimization_context\n",
    ")\n",
    "\n",
    "print(\"=== Inventory Optimization Results ===\")\n",
    "for key, value in optimization_result.items():\n",
    "    print(f\"{key}: {value}\")"
   ]
  },
  {
   "cell_type": "code",
   "execution_count": null,
   "id": "b03a653c",
   "metadata": {},
   "outputs": [],
   "source": [
    "# Test demand forecasting\n",
    "forecast_context = {\n",
    "    'demand_data': product_demand,\n",
    "    'forecast_periods': 5\n",
    "}\n",
    "\n",
    "forecast_result = agent_manager.execute_task(\n",
    "    agent_name='NewsvendorAgent',\n",
    "    task='forecast',\n",
    "    context=forecast_context\n",
    ")\n",
    "\n",
    "print(\"=== Demand Forecasting Results ===\")\n",
    "for key, value in forecast_result.items():\n",
    "    print(f\"{key}: {value}\")"
   ]
  },
  {
   "cell_type": "markdown",
   "id": "5f243423",
   "metadata": {},
   "source": [
    "## 5. Multi-Product Optimization Analysis"
   ]
  },
  {
   "cell_type": "code",
   "execution_count": null,
   "id": "b5a16db8",
   "metadata": {},
   "outputs": [],
   "source": [
    "# Analyze all products\n",
    "products = demand_data['product'].unique()\n",
    "optimization_results = []\n",
    "\n",
    "for product in products:\n",
    "    product_demand = demand_data[demand_data['product'] == product]['demand'].tolist()\n",
    "    \n",
    "    context = {\n",
    "        'demand_data': product_demand,\n",
    "        'unit_cost': np.random.uniform(5, 10),  # Random costs for variety\n",
    "        'selling_price': np.random.uniform(12, 20),\n",
    "        'salvage_value': np.random.uniform(1, 5)\n",
    "    }\n",
    "    \n",
    "    result = agent_manager.execute_task('NewsvendorAgent', 'optimize', context)\n",
    "    result['product'] = product\n",
    "    optimization_results.append(result)\n",
    "\n",
    "# Create results DataFrame\n",
    "results_df = pd.DataFrame(optimization_results)\n",
    "print(\"=== Multi-Product Optimization Results ===\")\n",
    "results_df[['product', 'optimal_quantity', 'critical_ratio', 'unit_cost', 'selling_price']].round(2)"
   ]
  },
  {
   "cell_type": "code",
   "execution_count": null,
   "id": "fcfcc52f",
   "metadata": {},
   "outputs": [],
   "source": [
    "# Visualize optimization results\n",
    "fig, axes = plt.subplots(1, 2, figsize=(15, 5))\n",
    "\n",
    "# Optimal quantities\n",
    "axes[0].bar(results_df['product'], results_df['optimal_quantity'])\n",
    "axes[0].set_title('Optimal Order Quantities by Product')\n",
    "axes[0].set_xlabel('Product')\n",
    "axes[0].set_ylabel('Optimal Quantity')\n",
    "axes[0].tick_params(axis='x', rotation=45)\n",
    "\n",
    "# Critical ratios\n",
    "axes[1].bar(results_df['product'], results_df['critical_ratio'])\n",
    "axes[1].set_title('Critical Ratios by Product')\n",
    "axes[1].set_xlabel('Product')\n",
    "axes[1].set_ylabel('Critical Ratio')\n",
    "axes[1].tick_params(axis='x', rotation=45)\n",
    "\n",
    "plt.tight_layout()\n",
    "plt.show()"
   ]
  },
  {
   "cell_type": "markdown",
   "id": "44d9c5a2",
   "metadata": {},
   "source": [
    "## 6. Dashboard Integration Preview\n",
    "\n",
    "Let's test the dashboard components that will be used in the Streamlit app."
   ]
  },
  {
   "cell_type": "code",
   "execution_count": null,
   "id": "466b4fb0",
   "metadata": {},
   "outputs": [],
   "source": [
    "# Test dashboard functionality (without Streamlit dependencies)\n",
    "try:\n",
    "    from dashboard import Dashboard\n",
    "    \n",
    "    dashboard = Dashboard(\"Test Dashboard\")\n",
    "    \n",
    "    # Calculate metrics\n",
    "    metrics = dashboard.create_metrics_dashboard(demand_data)\n",
    "    \n",
    "    print(\"=== Dashboard Metrics ===\")\n",
    "    for key, value in metrics.items():\n",
    "        print(f\"{key}: {value:.2f}\" if isinstance(value, float) else f\"{key}: {value}\")\n",
    "        \n",
    "except ImportError as e:\n",
    "    print(f\"Dashboard components not available (expected in notebook environment): {e}\")\n",
    "    \n",
    "    # Create manual metrics calculation\n",
    "    metrics = {\n",
    "        'total_demand': demand_data['demand'].sum(),\n",
    "        'avg_demand': demand_data['demand'].mean(),\n",
    "        'demand_volatility': demand_data['demand'].std(),\n",
    "        'num_products': demand_data['product'].nunique(),\n",
    "        'num_periods': demand_data['period'].nunique()\n",
    "    }\n",
    "    \n",
    "    print(\"=== Manual Dashboard Metrics ===\")\n",
    "    for key, value in metrics.items():\n",
    "        print(f\"{key}: {value:.2f}\" if isinstance(value, float) else f\"{key}: {value}\")"
   ]
  },
  {
   "cell_type": "markdown",
   "id": "2da08c93",
   "metadata": {},
   "source": [
    "## 7. Data Export for Dashboard"
   ]
  },
  {
   "cell_type": "code",
   "execution_count": null,
   "id": "da1c79ec",
   "metadata": {},
   "outputs": [],
   "source": [
    "# Export data for dashboard testing\n",
    "output_dir = '../data'\n",
    "os.makedirs(output_dir, exist_ok=True)\n",
    "\n",
    "# Export demand data\n",
    "demand_file = os.path.join(output_dir, 'sample_demand_data.csv')\n",
    "data_gen.export_data(demand_data, demand_file, 'csv')\n",
    "\n",
    "# Export time series data\n",
    "ts_file = os.path.join(output_dir, 'sample_timeseries_data.csv')\n",
    "data_gen.export_data(time_series_data, ts_file, 'csv')\n",
    "\n",
    "# Export optimization results\n",
    "results_file = os.path.join(output_dir, 'optimization_results.csv')\n",
    "results_df.to_csv(results_file, index=False)\n",
    "\n",
    "print(f\"✅ Data exported to {output_dir}/\")\n",
    "print(f\"  - {demand_file}\")\n",
    "print(f\"  - {ts_file}\")\n",
    "print(f\"  - {results_file}\")"
   ]
  },
  {
   "cell_type": "markdown",
   "id": "da36b36b",
   "metadata": {},
   "source": [
    "## 8. Summary and Next Steps\n",
    "\n",
    "### What we've accomplished:\n",
    "1. ✅ Successfully generated synthetic demand data\n",
    "2. ✅ Tested agentic system with newsvendor optimization\n",
    "3. ✅ Performed multi-product analysis\n",
    "4. ✅ Exported data for dashboard integration\n",
    "\n",
    "### Next steps:\n",
    "1. **Install required packages**: Run `pip install -r requirements.txt`\n",
    "2. **Test Streamlit dashboard**: Run `streamlit run dashboard/__init__.py`\n",
    "3. **Enhance with LangChain**: Add proper LangChain integration after installing langchain packages\n",
    "4. **Docker setup**: Create Docker configuration for deployment\n",
    "5. **Advanced optimization**: Implement more sophisticated optimization algorithms"
   ]
  },
  {
   "cell_type": "code",
   "execution_count": null,
   "id": "5ba746d6",
   "metadata": {},
   "outputs": [],
   "source": [
    "# Final verification\n",
    "print(\"=== Final System Check ===\")\n",
    "print(f\"✅ Data generation: {len(demand_data)} demand records created\")\n",
    "print(f\"✅ Agentic system: {len(agent_manager.get_task_history())} tasks executed\")\n",
    "print(f\"✅ Multi-product optimization: {len(results_df)} products analyzed\")\n",
    "print(f\"✅ Data export: 3 files created in {output_dir}/\")\n",
    "print(\"\\n🎉 AgenticNewsvendor system is ready for further development!\")"
   ]
  }
 ],
 "metadata": {
  "kernelspec": {
   "display_name": ".venv",
   "language": "python",
   "name": "python3"
  },
  "language_info": {
   "name": "python",
   "version": "3.13.0"
  }
 },
 "nbformat": 4,
 "nbformat_minor": 5
}
